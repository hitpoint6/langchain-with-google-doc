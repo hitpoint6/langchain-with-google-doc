{
 "cells": [
  {
   "attachments": {},
   "cell_type": "markdown",
   "metadata": {},
   "source": [
    "# Google API"
   ]
  },
  {
   "cell_type": "code",
   "execution_count": null,
   "metadata": {},
   "outputs": [],
   "source": [
    "!pip install --upgrade google-api-python-client google-auth-httplib2 google-auth-oauthlib"
   ]
  },
  {
   "attachments": {},
   "cell_type": "markdown",
   "metadata": {},
   "source": [
    "Prerequisite:\n",
    "Create a google oauth2 credential, download it the this folder as credentials.json. Follow this [guide]https://developers.google.com/workspace/guides/create-credentials\n",
    "\n",
    "This code will convert it into token.json, which will be used to call google apis."
   ]
  },
  {
   "cell_type": "code",
   "execution_count": 1,
   "metadata": {},
   "outputs": [],
   "source": [
    "import os.path\n",
    "\n",
    "from google.auth.transport.requests import Request\n",
    "from google.oauth2.credentials import Credentials\n",
    "from google_auth_oauthlib.flow import InstalledAppFlow\n",
    "\n",
    "\n",
    "SCOPES = ['https://www.googleapis.com/auth/documents']\n",
    "\n",
    "creds = None\n",
    "# The file token.json stores the user's access and refresh tokens, and is\n",
    "# created automatically when the authorization flow completes for the first\n",
    "# time.\n",
    "\n",
    "if os.path.exists('token.json'):\n",
    "    creds = Credentials.from_authorized_user_file('token.json', SCOPES)\n",
    "# If there are no (valid) credentials available, let the user log in.\n",
    "if not creds or not creds.valid:\n",
    "    if creds and creds.expired and creds.refresh_token:\n",
    "        creds.refresh(Request())\n",
    "    else:\n",
    "        flow = InstalledAppFlow.from_client_secrets_file(\n",
    "            'credentials.json', SCOPES)\n",
    "        creds = flow.run_local_server(port=0)\n",
    "    # Save the credentials for the next run\n",
    "    with open('token.json', 'w') as token:\n",
    "        token.write(creds.to_json())\n"
   ]
  },
  {
   "attachments": {},
   "cell_type": "markdown",
   "metadata": {},
   "source": [
    "Build a new document"
   ]
  },
  {
   "cell_type": "code",
   "execution_count": 2,
   "metadata": {},
   "outputs": [
    {
     "name": "stdout",
     "output_type": "stream",
     "text": [
      "Created document with title: My Document 3\n",
      "1dgnYPeVIAF613WMx2v8rPOZPTgUPX41sDrErLDJEmtM\n"
     ]
    }
   ],
   "source": [
    "from googleapiclient.discovery import build\n",
    "from googleapiclient.errors import HttpError\n",
    "\n",
    "document_id = \"\"\n",
    "try:\n",
    "    service = build('docs', 'v1', credentials=creds)\n",
    "    title = 'My Document 3'\n",
    "    body = {\n",
    "        'title': title,\n",
    "    }\n",
    "    response = service.documents().create(body=body).execute()\n",
    "    print('Created document with title: {0}'.format(response.get('title')))\n",
    "    document_id = response['documentId']\n",
    "    print(document_id)\n",
    "except HttpError as err:\n",
    "    print(err)"
   ]
  },
  {
   "attachments": {},
   "cell_type": "markdown",
   "metadata": {},
   "source": [
    "Update the new document"
   ]
  },
  {
   "cell_type": "code",
   "execution_count": 3,
   "metadata": {},
   "outputs": [],
   "source": [
    "try:\n",
    "    requests = [\n",
    "        {\n",
    "            \"insertText\": {\n",
    "                \"text\": \"Sample1\\n\",\n",
    "                \"location\": {\n",
    "                    \"index\": 1\n",
    "                }\n",
    "            }\n",
    "        },\n",
    "        {\n",
    "            \"insertText\": {\n",
    "                \"text\": \"sample2\\n\",\n",
    "                \"location\": {\n",
    "                    \"index\": 9\n",
    "                }\n",
    "            }\n",
    "        }\n",
    "    ]\n",
    "    result = service.documents().batchUpdate(\n",
    "        documentId=document_id, body={'requests': requests}).execute()\n",
    "except HttpError as err:\n",
    "    print(err)"
   ]
  },
  {
   "attachments": {},
   "cell_type": "markdown",
   "metadata": {},
   "source": [
    "# Summarize google doc using langchain"
   ]
  },
  {
   "attachments": {},
   "cell_type": "markdown",
   "metadata": {},
   "source": [
    "Load the google doc using langchain's google api.\n",
    "\n",
    "Get the llm model.\n",
    "\n",
    "Create a custom chain and run the query."
   ]
  },
  {
   "cell_type": "code",
   "execution_count": 10,
   "metadata": {},
   "outputs": [
    {
     "name": "stdout",
     "output_type": "stream",
     "text": [
      "Please visit this URL to authorize this application: https://accounts.google.com/o/oauth2/auth?response_type=code&client_id=274229182110-41qo6pk107o34b005ilamjk9undt963v.apps.googleusercontent.com&redirect_uri=http%3A%2F%2Flocalhost%3A52138%2F&scope=https%3A%2F%2Fwww.googleapis.com%2Fauth%2Fdrive.readonly&state=LnnTOvMrT5Fa8xauht3hqCp1i7EIOe&access_type=offline\n"
     ]
    }
   ],
   "source": [
    "from langchain.document_loaders import GoogleDriveLoader\n",
    "import os\n",
    "\n",
    "loader = GoogleDriveLoader(document_ids=[\"1PqfBr0zti7O2_n0Sr6cXDeFSTAqbAH6AteARRsgZWhw\"], credentials_path=\"./credentials.json\", token_path=\"./token.json\")\n",
    "docs = loader.load()"
   ]
  },
  {
   "cell_type": "code",
   "execution_count": 11,
   "metadata": {},
   "outputs": [
    {
     "data": {
      "text/plain": [
       "'\\ufeffHi, everyone. Welcome toThis is paragraph 1. GrayThis is paragraph 2. MattThis is paragraph 3.er, t'"
      ]
     },
     "execution_count": 11,
     "metadata": {},
     "output_type": "execute_result"
    }
   ],
   "source": [
    "docs[0].page_content[:100]"
   ]
  },
  {
   "cell_type": "code",
   "execution_count": 12,
   "metadata": {},
   "outputs": [],
   "source": [
    "from langchain.chat_models import ChatOpenAI\n",
    "\n",
    "OPENAI_API_KEY = os.environ.get('OPENAI_API_KEY') or 'OPENAI_API_KEY'\n",
    "\n",
    "llm = ChatOpenAI(\n",
    "    openai_api_key=OPENAI_API_KEY,\n",
    "    temperature=0,\n",
    "    model_name='gpt-3.5-turbo'\n",
    ")"
   ]
  },
  {
   "cell_type": "code",
   "execution_count": 13,
   "metadata": {},
   "outputs": [],
   "source": [
    "from langchain import PromptTemplate\n",
    "\n",
    "template = \"\"\"\n",
    "Summarize this text:\n",
    "\n",
    "{output_text}\n",
    "\n",
    "Summarize: \"\"\"\n",
    "\n",
    "prompt = PromptTemplate(input_variables=[\"output_text\"], template=template)"
   ]
  },
  {
   "cell_type": "code",
   "execution_count": 14,
   "metadata": {},
   "outputs": [],
   "source": [
    "from langchain.chains import LLMChain\n",
    "\n",
    "llm_chain = LLMChain(llm=llm, prompt=prompt, output_key=\"summary\")"
   ]
  },
  {
   "cell_type": "code",
   "execution_count": 15,
   "metadata": {},
   "outputs": [],
   "source": [
    "llm_chain.run(docs[0].page_content)"
   ]
  }
 ],
 "metadata": {
  "kernelspec": {
   "display_name": "venv",
   "language": "python",
   "name": "python3"
  },
  "language_info": {
   "codemirror_mode": {
    "name": "ipython",
    "version": 3
   },
   "file_extension": ".py",
   "mimetype": "text/x-python",
   "name": "python",
   "nbconvert_exporter": "python",
   "pygments_lexer": "ipython3",
   "version": "3.10.9"
  },
  "orig_nbformat": 4
 },
 "nbformat": 4,
 "nbformat_minor": 2
}
